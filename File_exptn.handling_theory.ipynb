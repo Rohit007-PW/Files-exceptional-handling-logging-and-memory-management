{
 "cells": [
  {
   "cell_type": "markdown",
   "id": "62a85ed9-7c59-4748-ad82-91a17d577156",
   "metadata": {},
   "source": [
    "#  Files, exceptional handling,logging and memory management"
   ]
  },
  {
   "cell_type": "markdown",
   "id": "779aa1c8-ec6f-477e-9617-71539ca920a2",
   "metadata": {},
   "source": [
    "### Q1--What is the difference between interpreted and compiled languages?"
   ]
  },
  {
   "cell_type": "markdown",
   "id": "aa8573c3-7125-4117-ba61-5ff0fcb63e43",
   "metadata": {},
   "source": [
    " In Compiled Languages translate the whole code into machine code before execution. Faster at runtime but less flexible. Example: C, C++. But in Interpreted Languages Execute code line-by-line using an interpreter. Slower at runtime but easier to debug and more portable. Example: Python.\n"
   ]
  },
  {
   "cell_type": "markdown",
   "id": "f12fb991-ad3f-417a-929e-7dff93d84876",
   "metadata": {},
   "source": [
    "### Q2-- What is exception handling in Python?"
   ]
  },
  {
   "cell_type": "markdown",
   "id": "197d30ff-97d4-43d2-96c2-917e09cdb6c2",
   "metadata": {},
   "source": [
    "It  is a way to handle errors or exceptional conditions during program execution to prevent crashes. It uses the try, except, else, and finally blocks to catch and manage exceptions gracefully.\n",
    "\n"
   ]
  },
  {
   "cell_type": "code",
   "execution_count": 1,
   "id": "fe7f4254-4b1b-4cca-aa3b-f8f9956bfdd4",
   "metadata": {},
   "outputs": [
    {
     "name": "stdout",
     "output_type": "stream",
     "text": [
      "You can't divide by zero!\n",
      "Execution complete.\n"
     ]
    }
   ],
   "source": [
    "try:\n",
    "    result = 10 / 0 \n",
    "except ZeroDivisionError:\n",
    "    print(\"You can't divide by zero!\")  \n",
    "finally:\n",
    "    print(\"Execution complete.\") "
   ]
  },
  {
   "cell_type": "markdown",
   "id": "94cfe211-922b-4e25-a2e2-8231f8a6cf45",
   "metadata": {},
   "source": [
    "### Q3--What is the purpose of the finally block in exception handling"
   ]
  },
  {
   "cell_type": "markdown",
   "id": "03a326cb-feb5-40df-904f-09db5d576ef4",
   "metadata": {},
   "source": [
    "The finally block in Python’s exception handling is used to execute code that must run no matter what—whether an exception occurred or not. It’s often used for cleanup actions such as closing files, releasing resources, or disconnecting from databases."
   ]
  },
  {
   "cell_type": "markdown",
   "id": "0367b1fd-5286-4389-adbf-e63489571645",
   "metadata": {},
   "source": [
    "### Q4--What is logging in Python"
   ]
  },
  {
   "cell_type": "markdown",
   "id": "f5a42df9-542a-4db6-b804-513009fbb57b",
   "metadata": {},
   "source": [
    "Logging  is a way to record messages about a program’s execution, such as errors, warnings, and informational messages, to help with debugging, monitoring, and troubleshooting.\n"
   ]
  },
  {
   "cell_type": "markdown",
   "id": "e91f4efa-2608-41a4-9383-c5fab6579383",
   "metadata": {},
   "source": [
    "### Q5-- What is the significance of the __del__ method in Python\n"
   ]
  },
  {
   "cell_type": "markdown",
   "id": "63a2ce8a-acfd-4eb4-a600-2f5f13840d3c",
   "metadata": {},
   "source": [
    "The \"__del__\" method in Python is a special destructor method called automatically when an object is about to be destroyed. It is used to clean up resources like files or connections before the object is garbage collected."
   ]
  },
  {
   "cell_type": "markdown",
   "id": "587fc401-1cd6-4c5d-8c59-7ec4d89bd7ef",
   "metadata": {},
   "source": [
    "### Q6-- What is the difference between import and from ... import in Python\n"
   ]
  },
  {
   "cell_type": "markdown",
   "id": "e62f057a-a7fd-46ab-a26a-5f46220af451",
   "metadata": {},
   "source": [
    "import: Imports the entire module; access functions with the module name (e.g., math.sqrt). ,,,from ... import: Imports specific parts of a module for direct use (e.g., sqrt)."
   ]
  },
  {
   "cell_type": "markdown",
   "id": "c7bfb345-b24b-4487-841b-dd422dd7b185",
   "metadata": {},
   "source": [
    "### Q7--How can you handle multiple exceptions in Python\n"
   ]
  },
  {
   "cell_type": "markdown",
   "id": "37a0e569-16a2-4bae-b731-da7750a8f5c1",
   "metadata": {},
   "source": [
    "in Python, we can handle multiple exceptions using Separate except Blocks\n",
    "\n",
    "Handle each exception type with a different except block."
   ]
  },
  {
   "cell_type": "code",
   "execution_count": 2,
   "id": "5d08bf72-d50f-41ed-b26e-8fe43a9dd495",
   "metadata": {},
   "outputs": [
    {
     "name": "stdout",
     "output_type": "stream",
     "text": [
      "ValueError occurred!\n"
     ]
    }
   ],
   "source": [
    "try:\n",
    "    x = int(\"abc\")\n",
    "except ValueError:\n",
    "    print(\"ValueError occurred!\")\n",
    "except TypeError:\n",
    "    print(\"TypeError occurred!\")"
   ]
  },
  {
   "cell_type": "markdown",
   "id": "5eb15e57-2435-4ef9-99d0-954a2c018edf",
   "metadata": {},
   "source": [
    "### Q8-- What is the purpose of the with statement when handling files in Python\n"
   ]
  },
  {
   "cell_type": "markdown",
   "id": "46d647de-5948-4ed2-b068-f5e64fd5b275",
   "metadata": {},
   "source": [
    "The with statement automatically manages resources like files, ensuring they are properly opened and closed, even if an error occurs. It simplifies code by handling cleanup without needing to manually call file.close()."
   ]
  },
  {
   "cell_type": "markdown",
   "id": "b4c8f8e4-ac0a-485b-9d76-5bd585f10492",
   "metadata": {},
   "source": [
    "### Q9-- What is the difference between multithreading and multiprocessing\n",
    "\n"
   ]
  },
  {
   "cell_type": "markdown",
   "id": "dae8facc-1b69-4c2e-8848-caa79fb3246b",
   "metadata": {},
   "source": [
    "Multithreading allows multiple tasks to run at the same time within a single program, sharing the same memory, and is good for tasks like reading files or waiting for network responses.\n",
    "\n",
    "Multiprocessing runs tasks in separate programs with their own memory, making it better for tasks that need heavy computation, like calculations, because they can run at the same time without any limits.\n"
   ]
  },
  {
   "cell_type": "markdown",
   "id": "d342e9e4-e84b-415f-85b1-21c603653d92",
   "metadata": {},
   "source": [
    "### Q10-- What are the advantages of using logging in a program\n"
   ]
  },
  {
   "cell_type": "markdown",
   "id": "23bdf1a6-d674-4467-a0f7-b9921d89e6cc",
   "metadata": {},
   "source": [
    "Using logging in a program helps track events, errors, and system behavior for debugging and monitoring. It provides detailed insights into the program’s execution without interrupting the flow. It also allows saving logs to files for later analysis or auditing."
   ]
  },
  {
   "cell_type": "markdown",
   "id": "7f1bc6a7-371d-4579-bdb2-8fff814892cf",
   "metadata": {},
   "source": [
    "### Q11-- What is memory management in Python\n"
   ]
  },
  {
   "cell_type": "markdown",
   "id": "ac7c4e8b-78a4-43ae-9e2f-5b0ecf65e2c7",
   "metadata": {},
   "source": [
    "Memory management in Python involves handling the allocation, deallocation, and optimization of memory usage for objects. Python uses an automatic garbage collector to reclaim memory by deleting objects that are no longer in use. It also manages memory through a reference counting system and a heap for dynamic memory allocation."
   ]
  },
  {
   "cell_type": "markdown",
   "id": "52379c93-7004-4573-9fb9-95335af29d37",
   "metadata": {},
   "source": [
    "### Q12-- What are the basic steps involved in exception handling in Python\n"
   ]
  },
  {
   "cell_type": "markdown",
   "id": "30f1ecf0-4124-4999-b6c9-ebb8f2535ff9",
   "metadata": {},
   "source": [
    "The basic steps involved in exception handling in Python are:\n",
    "\n",
    "\t1.\ttry block: Write the code that may raise an exception.\n",
    "    \n",
    "\t2.\texcept block: Handle the exception if it occurs.\n",
    "    \n",
    "\t3.\telse block (optional): Executes if no exceptions occur.\n",
    "    \n",
    "\t4.\tfinally block (optional): Executes regardless of whether an exception occurs, typically for cleanup."
   ]
  },
  {
   "cell_type": "markdown",
   "id": "9aebca1c-a234-4413-bad7-21f7c27d385d",
   "metadata": {},
   "source": [
    "### Q13--Why is memory management important in Python\n"
   ]
  },
  {
   "cell_type": "markdown",
   "id": "4ae8aa5f-7f87-43db-ad81-eef5b643e00e",
   "metadata": {},
   "source": [
    "Memory management in Python is important because it ensures efficient use of memory, prevents memory leaks, and helps maintain the performance of the program. It automatically handles memory allocation and deallocation, allowing developers to focus on the logic without worrying about low-level memory management."
   ]
  },
  {
   "cell_type": "markdown",
   "id": "98c48c4a-319a-4673-8dc7-1ec3042bf81a",
   "metadata": {},
   "source": [
    "### Q14-- What is the role of try and except in exception handling\n"
   ]
  },
  {
   "cell_type": "markdown",
   "id": "2aad192c-78be-4aab-b05d-a914f50328ba",
   "metadata": {},
   "source": [
    "In exception handling, the try block contains code that might raise an exception, while the except block catches and handles the exception if it occurs, preventing the program from crashing."
   ]
  },
  {
   "cell_type": "markdown",
   "id": "4670918e-03f2-4a37-9cfd-7e165240ae8d",
   "metadata": {},
   "source": [
    "### Q15-- How does Python's garbage collection system work\n"
   ]
  },
  {
   "cell_type": "markdown",
   "id": "470cbbde-e57d-415a-b193-65a0bba23d2c",
   "metadata": {},
   "source": [
    "Python’s garbage collection system uses reference counting to track object usage and automatically deallocate when no references exist. It also includes a garbage collector to clean up circular references, ensuring efficient memory management."
   ]
  },
  {
   "cell_type": "markdown",
   "id": "879d03fd-a04d-44b4-b252-8080b61f2083",
   "metadata": {},
   "source": [
    "### Q16-- What is the purpose of the else block in exception handling\n"
   ]
  },
  {
   "cell_type": "markdown",
   "id": "8e7271fb-773e-46ad-86c2-cfa2b4f1b9ca",
   "metadata": {},
   "source": [
    "The else block in exception handling runs only if no exception occurs in the try block, allowing you to execute code when the try block is successful."
   ]
  },
  {
   "cell_type": "markdown",
   "id": "a64b99a3-16ff-4354-909c-d7c82214f79b",
   "metadata": {},
   "source": [
    "### Q17-- What are the common logging levels in Python\n"
   ]
  },
  {
   "cell_type": "markdown",
   "id": "00b413fc-6511-4b68-b5ec-24a2404425dd",
   "metadata": {},
   "source": [
    "The common logging levels in Python are:\n",
    "\tDEBUG -->INFO -->WARNING -->ERROR -->CRITICAL"
   ]
  },
  {
   "cell_type": "markdown",
   "id": "d1c4f930-eb3c-46fc-b0b4-0466348b562a",
   "metadata": {},
   "source": [
    "### Q18-- What is the difference between os.fork() and multiprocessing in Python\n"
   ]
  },
  {
   "cell_type": "markdown",
   "id": "d25270c3-79da-4f90-836e-6f1f440c41f6",
   "metadata": {},
   "source": [
    "os.fork() is a low-level function that creates a child process by duplicating the current process, available only on Unix-based systems.\n",
    "multiprocessing is a high-level module that simplifies process creation, supports IPC, and works across both Unix and Windows, offering better scalability and control."
   ]
  },
  {
   "cell_type": "markdown",
   "id": "984bf976-48a7-4c0a-af70-20c4895c4a66",
   "metadata": {},
   "source": [
    "### Q19--What is the importance of closing a file in Python\n"
   ]
  },
  {
   "cell_type": "markdown",
   "id": "c950068c-56f8-44f2-b5ce-3f85ce2e3f35",
   "metadata": {},
   "source": [
    "Closing a file in Python releases system resources, ensures all data is saved, and prevents file corruption. It helps avoid memory leaks and ensures proper cleanup after file operations. Using the with statement automatically handles closing."
   ]
  },
  {
   "cell_type": "markdown",
   "id": "1f987630-decc-4a21-9908-03781f69c200",
   "metadata": {},
   "source": [
    "### Q20-- What is the difference between file.read() and file.readline() in Python\n"
   ]
  },
  {
   "cell_type": "markdown",
   "id": "3a7df8ff-f8d2-4857-abe2-b5dabdabf52d",
   "metadata": {},
   "source": [
    "\n",
    "file.read(): Reads the entire content of the file as a single string.\n",
    "\n",
    "Example :content = file.read().\n",
    "\n",
    "\n",
    "\n",
    "file.readline(): Reads one line from the file at a time.\n",
    "\n",
    "Example: line = file.readline()."
   ]
  },
  {
   "cell_type": "markdown",
   "id": "aa81de18-ea87-49dc-bcca-5da150a14f77",
   "metadata": {},
   "source": [
    "### Q21-- What is the logging module in Python used for\n"
   ]
  },
  {
   "cell_type": "markdown",
   "id": "56c608bb-765f-4f98-a77d-41469b8b042f",
   "metadata": {},
   "source": [
    "The logging module in Python is used for tracking events, errors, and system behavior during program execution. It allows you to log messages at different severity levels (e.g., DEBUG, INFO, ERROR) and save them to files or output streams for debugging, monitoring, and auditing purposes."
   ]
  },
  {
   "cell_type": "markdown",
   "id": "c6a39561-bdb1-457b-8b3a-8c1b24ee3abf",
   "metadata": {},
   "source": [
    "### Q22-- What is the os module in Python used for in file handling\n"
   ]
  },
  {
   "cell_type": "markdown",
   "id": "96dbfdf3-86e0-472d-af78-9b5dfc8a8c3e",
   "metadata": {},
   "source": [
    "The os module in Python provides functions for file and directory manipulation, such as creating, renaming, deleting files, checking file existence, and listing directory contents."
   ]
  },
  {
   "cell_type": "markdown",
   "id": "54ea08e3-d843-449e-b47f-ecfc56088c50",
   "metadata": {},
   "source": [
    "### Q23-- What are the challenges associated with memory management in Python\n"
   ]
  },
  {
   "cell_type": "markdown",
   "id": "b08cc5d6-b557-4fcb-8f43-79783b8fe9ab",
   "metadata": {},
   "source": [
    "Garbage Collection Overhead: The automatic garbage collector can introduce performance overhead.\n",
    "\n",
    "Memory Leaks: Unused objects may not be properly deallocated, especially with circular references.\n",
    "\n",
    "Limited Control: Python’s memory management is automatic, providing less control to developers compared to languages with manual memory management."
   ]
  },
  {
   "cell_type": "markdown",
   "id": "4a2867a0-ca23-4a29-b8a1-1cf895c6c66d",
   "metadata": {},
   "source": [
    "### Q24-- How do you raise an exception manually in Python\n"
   ]
  },
  {
   "cell_type": "markdown",
   "id": "6d859da2-5a7a-403b-9cd6-c7a8059beb5e",
   "metadata": {},
   "source": [
    "You can raise an exception manually in Python using the raise keyword followed by the exception you want to raise.\n"
   ]
  },
  {
   "cell_type": "code",
   "execution_count": null,
   "id": "aabdf1f4-bd44-4450-91c0-b8d01f9974a3",
   "metadata": {},
   "outputs": [],
   "source": [
    "raise ValueError(\"This is a custom error message\")"
   ]
  },
  {
   "cell_type": "markdown",
   "id": "1111c2f5-c6ad-4119-b1bf-501f105f97e6",
   "metadata": {},
   "source": [
    "### Q25-- Why is it important to use multithreading in certain applications?\n"
   ]
  },
  {
   "cell_type": "markdown",
   "id": "073303a3-2b75-4b4b-a4f1-88b39b8285a5",
   "metadata": {},
   "source": [
    "Multithreading helps run multiple tasks at the same time, making programs faster, especially when waiting for things like files or network data, and keeping the program responsive."
   ]
  },
  {
   "cell_type": "code",
   "execution_count": null,
   "id": "54a87fc3-3428-4e27-b74b-dc1edc30e27a",
   "metadata": {},
   "outputs": [],
   "source": []
  }
 ],
 "metadata": {
  "kernelspec": {
   "display_name": "Python 3 (ipykernel)",
   "language": "python",
   "name": "python3"
  },
  "language_info": {
   "codemirror_mode": {
    "name": "ipython",
    "version": 3
   },
   "file_extension": ".py",
   "mimetype": "text/x-python",
   "name": "python",
   "nbconvert_exporter": "python",
   "pygments_lexer": "ipython3",
   "version": "3.12.1"
  }
 },
 "nbformat": 4,
 "nbformat_minor": 5
}
